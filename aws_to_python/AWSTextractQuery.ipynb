{
  "nbformat": 4,
  "nbformat_minor": 0,
  "metadata": {
    "colab": {
      "provenance": [],
      "collapsed_sections": []
    },
    "kernelspec": {
      "name": "python3",
      "display_name": "Python 3"
    },
    "language_info": {
      "name": "python"
    }
  },
  "cells": [
    {
      "cell_type": "code",
      "execution_count": null,
      "metadata": {
        "id": "NQoNh1v90CDq"
      },
      "outputs": [],
      "source": [
        "pip install boto3"
      ]
    },
    {
      "cell_type": "code",
      "source": [
        "!python -m pip install -q boto3 amazon_textract_response_parser"
      ],
      "metadata": {
        "id": "K5RVhF0W0Oj9"
      },
      "execution_count": null,
      "outputs": []
    },
    {
      "cell_type": "code",
      "source": [
        "import boto3\n",
        "import json\n",
        "import trp.trp2 as t2\n",
        "\n",
        "#create a Textract Client\n",
        "textract = boto3.client('textract',aws_access_key_id=\"xxxxxxxxxxxxxxxxxxx\",\n",
        "                              aws_secret_access_key=\"xxxxxxxxxxxxxxxxxxxxxxxxxxx\", region_name=\"xxxxxxxxxxxxxxxxxx\")\n",
        "# Document\n",
        "documentName = '/filename'"
      ],
      "metadata": {
        "id": "jN5z0cUZ0s5q"
      },
      "execution_count": null,
      "outputs": []
    },
    {
      "cell_type": "code",
      "source": [
        "response = None\n",
        "with open(documentName, 'rb') as document:\n",
        "    imageBytes = bytearray(document.read())\n",
        "\n",
        "    # Call Textract\n",
        "    response = textract.analyze_document(\n",
        "        Document={'Bytes': imageBytes},\n",
        "        FeatureTypes=[\"QUERIES\"],\n",
        "        QueriesConfig={\n",
        "            \"Queries\": [{\n",
        "                \"Text\": \"what is Ship To ?\",\n",
        "                \"Alias\": \"Consignee Name\"\n",
        "            }]\n",
        "        })"
      ],
      "metadata": {
        "id": "xANYiL6e1N0-"
      },
      "execution_count": null,
      "outputs": []
    },
    {
      "cell_type": "code",
      "source": [
        "d = t2.TDocumentSchema().load(response)\n",
        "page = d.pages[0]\n",
        "query_answers = d.get_query_answers(page=page)\n",
        "\n",
        "for x in query_answers:\n",
        "    addr = {x[2]}\n",
        "    bad_chars = ['{', '}']\n",
        "    y = str(addr)\n",
        "    for i in bad_chars:\n",
        "      y = y.replace(i, '')\n",
        "new_string = ''.join((x for x in y if not x.isdigit()))\n",
        "print(new_string)"
      ],
      "metadata": {
        "id": "t8jccsK61RU6"
      },
      "execution_count": null,
      "outputs": []
    }
  ]
}